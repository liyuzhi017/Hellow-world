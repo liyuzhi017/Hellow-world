{
 "cells": [
  {
   "cell_type": "code",
   "execution_count": 8,
   "metadata": {},
   "outputs": [
    {
     "name": "stdout",
     "output_type": "stream",
     "text": [
      "     *\n",
      "    * *\n",
      "   * * *\n",
      "  * * * *\n",
      " * * * * *\n",
      "  * * * *\n",
      "   * * *\n",
      "    * *\n",
      "     *\n"
     ]
    }
   ],
   "source": [
    "def abc(a,b):\n",
    "    for i in range(1,b):\n",
    "        print(' '*(b-i)+i*a)\n",
    "    for j in range(b,0,-1):\n",
    "        print((b-j)*' '+j*a)\n",
    "        \n",
    "def main():\n",
    "    abc(' *',5)\n",
    "    \n",
    "if __name__ == '__main__':\n",
    "    main()"
   ]
  },
  {
   "cell_type": "code",
   "execution_count": 2,
   "metadata": {},
   "outputs": [
    {
     "name": "stdout",
     "output_type": "stream",
     "text": [
      "1!+2!+3!+...+n!= 4037913\n"
     ]
    }
   ],
   "source": [
    "\"\"\"2、用递归和非递归分别实现函数求1!+2!+3!+...+n!，主程序以n=10分别调用。（20分）\"\"\"\n",
    "def asd(n):\n",
    "    sum1=1\n",
    "    sum2=0\n",
    "    for i in range(1,n+1):\n",
    "        sum1=sum1*i\n",
    "        sum2=sum2+sum1\n",
    "    return sum2\n",
    "\n",
    "def main():\n",
    "    print(\"1!+2!+3!+...+n!=\",asd(10))\n",
    "\n",
    "if __name__ == '__main__':\n",
    "    main()"
   ]
  },
  {
   "cell_type": "code",
   "execution_count": 3,
   "metadata": {},
   "outputs": [
    {
     "name": "stdout",
     "output_type": "stream",
     "text": [
      "1!+2!+3!+...+n!= 4037913\n"
     ]
    }
   ],
   "source": [
    "def dfg(n):\n",
    "    if n==0:\n",
    "        return 1\n",
    "    else:\n",
    "        return n*dfg(n-1)x\n",
    "\n",
    "def fgh(n):\n",
    "    if n==0:\n",
    "        return 0\n",
    "    else:\n",
    "        return dfg(n)+fgh(n-1)\n",
    "\n",
    "def main():\n",
    "    print(\"1!+2!+3!+...+n!=\",fgh(10))\n",
    "\n",
    "if __name__ == '__main__':\n",
    "    main()"
   ]
  },
  {
   "cell_type": "code",
   "execution_count": 7,
   "metadata": {},
   "outputs": [
    {
     "name": "stdout",
     "output_type": "stream",
     "text": [
      "1 京S-T7394\n",
      "2 京V-Z2014\n",
      "3 京G-U8779\n",
      "4 京T-K6718\n",
      "5 京A-D8389\n",
      "6 京T-C8579\n",
      "7 京Q-J9715\n",
      "8 京X-Z8277\n",
      "9 京L-V6401\n",
      "10 京Y-D0658\n"
     ]
    }
   ],
   "source": [
    "\"\"\"3、北京车牌号的一般形式为：“京X-YYYYY”，其中X为字母，Y为字母或者数字，字母不能为I或者O，数字只能0-9之间。\n",
    "请编写程序模拟选号过程：一次可以随机生成10个车牌号（不能有重复），依次将其编号为0-9，显示给用户。（20分）\"\"\"\n",
    "import random\n",
    "list1=['A','B','C','D','E','F','G','H','I','J','K','L','M','N','O','P','Q','R','S','T','U','V','W','X','Y','Z']\n",
    "list2=['A','B','C','D','E','F','G','H','J','K','L','M','N','P','Q','R','S','T','U','V','W','X','Y','Z']\n",
    "list3=['0','1','2','3','4','5','6','7','8','9']\n",
    "for i in range(1,11):\n",
    "    print(i,'京',end='')\n",
    "    print(random.choice(list1),end='')\n",
    "    print('-',end='')\n",
    "    print(random.choice(list2),end='')\n",
    "    print(random.choice(list3),end='')\n",
    "    print(random.choice(list3),end='')\n",
    "    print(random.choice(list3),end='')\n",
    "    print(random.choice(list3),end='')\n",
    "    print()"
   ]
  },
  {
   "cell_type": "code",
   "execution_count": null,
   "metadata": {
    "collapsed": true
   },
   "outputs": [],
   "source": [
    "a = [1,2,3,4]\n",
    "b = [4,5,6,7]\n",
    "c = [7,8,9,10]\n",
    "import math\n",
    "x = ((3-1)*(6-4)+(4-2)*(7-5))/(math.sqrt((3-1)**2+(4-2)**2)*math.sqrt((6-4)**2+(7-5)**2))\n",
    "print(x)"
   ]
  },
  {
   "cell_type": "code",
   "execution_count": null,
   "metadata": {
    "collapsed": true
   },
   "outputs": [],
   "source": [
    "import random\n",
    "A=[]\n",
    "for i in range(100000):\n",
    "    a=random.randint(1,10000)\n",
    "    A.append(a)\n",
    "numbers = A\n",
    "numbers_dict_1={}\n",
    " for num in numbers:\n",
    "    if num in numbers_dict_1:\n",
    "        numbers_dict_1 [num] += 1\n",
    "    else:\n",
    "        numbers_dict_1 [num] = 1\n",
    "b = []        \n",
    "for key, value in numbers_dict_1.items():  \n",
    "    a = key, value\n",
    "    b.append(a) \n",
    "    \n",
    "fileObject = open('a.txt', 'w')  \n",
    "\n",
    "for i in range(len(b)): \n",
    "    if i%2==0:\n",
    "        fileObject.write(str(b[i])) \n",
    "        fileObject.write(',') \n",
    "    else:\n",
    "        fileObject.write(str(b[i])) \n",
    "        fileObject.write('\\n')  \n",
    "fileObject.close() \n"
   ]
  }
 ],
 "metadata": {
  "kernelspec": {
   "display_name": "Python 3",
   "language": "python",
   "name": "python3"
  },
  "language_info": {
   "codemirror_mode": {
    "name": "ipython",
    "version": 3
   },
   "file_extension": ".py",
   "mimetype": "text/x-python",
   "name": "python",
   "nbconvert_exporter": "python",
   "pygments_lexer": "ipython3",
   "version": "3.6.2"
  }
 },
 "nbformat": 4,
 "nbformat_minor": 2
}
